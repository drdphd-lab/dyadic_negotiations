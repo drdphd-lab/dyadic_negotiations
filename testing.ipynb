{
 "cells": [
  {
   "cell_type": "code",
   "execution_count": 121,
   "id": "8036b8d9",
   "metadata": {},
   "outputs": [],
   "source": [
    "import pickle\n",
    "\n",
    "import numpy as np\n",
    "import pandas as pd\n",
    "\n",
    "from statsmodels.stats.multitest import multipletests"
   ]
  },
  {
   "cell_type": "code",
   "execution_count": 122,
   "id": "2c72364b",
   "metadata": {},
   "outputs": [],
   "source": [
    "with open('data/emotion_testing_dct.pkl', mode='rb') as f:\n",
    "    emotion_testing_dct = pickle.load(f)\n",
    "with open('data/speech_vocal_testing_dct.pkl', mode='rb') as f:\n",
    "    speech_vocal_testing_dct = pickle.load(f)"
   ]
  },
  {
   "cell_type": "code",
   "execution_count": 123,
   "id": "fdb75699",
   "metadata": {},
   "outputs": [],
   "source": [
    "from collections import defaultdict"
   ]
  },
  {
   "cell_type": "code",
   "execution_count": 124,
   "id": "757100fd",
   "metadata": {},
   "outputs": [],
   "source": [
    "from scipy.stats import ttest_ind"
   ]
  },
  {
   "cell_type": "code",
   "execution_count": 125,
   "id": "9967f5f8",
   "metadata": {},
   "outputs": [],
   "source": [
    "overall_testing_dct = defaultdict(lambda: [])\n",
    "for key, value in emotion_testing_dct.items():\n",
    "    for i in range(4):\n",
    "        _, pval = ttest_ind(\n",
    "            value[f'judge_{i+1}']['winners'], value[f'judge_{i+1}']['losers'], equal_var=False\n",
    "        )\n",
    "        overall_testing_dct[key].append(pval)\n",
    "        \n",
    "for key, value in speech_vocal_testing_dct.items():\n",
    "    for i in range(4):\n",
    "        _, pval = ttest_ind(\n",
    "            value[f'judge_{i+1}']['winners'], value[f'judge_{i+1}']['losers'], equal_var=False\n",
    "        )\n",
    "        overall_testing_dct[key].append(pval)"
   ]
  },
  {
   "cell_type": "code",
   "execution_count": 126,
   "id": "4a905ac6",
   "metadata": {},
   "outputs": [
    {
     "data": {
      "text/plain": [
       "{'neutral_positive': [0.9958899945337658,\n",
       "  0.20312552570002246,\n",
       "  0.6661290505129572,\n",
       "  0.7884670569228887],\n",
       " 'instability': [0.9323061898150982,\n",
       "  0.09179322092296746,\n",
       "  0.01946391503359387,\n",
       "  0.6958646465221325],\n",
       " 'speech_rate': [0.15163732646425,\n",
       "  0.8340294518216509,\n",
       "  0.6144514554066205,\n",
       "  0.4731137870582077],\n",
       " 'speech_dur': [0.17191096778179396,\n",
       "  0.8724518591404847,\n",
       "  0.0024713612788371682,\n",
       "  0.4839871410427736],\n",
       " 'speech_interrupt': [0.9009157159160461,\n",
       "  0.052194845268007925,\n",
       "  0.5656832477106595,\n",
       "  0.1545963735987405],\n",
       " 'speech_question': [0.15210326903655805,\n",
       "  0.43775861532894667,\n",
       "  0.08926125647672874,\n",
       "  0.017141715773884725],\n",
       " 'speech_situation': [0.5630158497200421,\n",
       "  0.3895427068487255,\n",
       "  0.986777269019279,\n",
       "  0.24660257781994788],\n",
       " 'speech_role': [0.9572690369520962,\n",
       "  0.34619330074283927,\n",
       "  0.3994673866854833,\n",
       "  0.6298334140112364],\n",
       " 'speech_role_opponent': [0.44537584430776134,\n",
       "  0.5714525669475476,\n",
       "  0.5603265599229401,\n",
       "  0.06888017018780528],\n",
       " 'speech_relevance': [0.3993462980387541,\n",
       "  0.7306101194602914,\n",
       "  0.34374392681540844,\n",
       "  0.34063777997046363],\n",
       " 'speech_coherence': [0.6947505223974182,\n",
       "  0.8523737145292083,\n",
       "  0.3925221650076244,\n",
       "  0.4661936637799109],\n",
       " 'speech_tone': [0.6474210027219696,\n",
       "  0.7806498981358725,\n",
       "  0.31952714829943074,\n",
       "  0.21989581410378758]}"
      ]
     },
     "execution_count": 126,
     "metadata": {},
     "output_type": "execute_result"
    }
   ],
   "source": [
    "dict(overall_testing_dct)"
   ]
  },
  {
   "cell_type": "code",
   "execution_count": 127,
   "id": "e0e904e3",
   "metadata": {},
   "outputs": [],
   "source": [
    "result = multipletests(\n",
    "    pvals=[x for value in overall_testing_dct.values() for x in value],\n",
    "    alpha=0.10, method='fdr_bh'\n",
    ")"
   ]
  },
  {
   "cell_type": "code",
   "execution_count": 128,
   "id": "57234417",
   "metadata": {},
   "outputs": [
    {
     "data": {
      "text/plain": [
       "(array([False, False, False, False, False, False, False, False, False,\n",
       "        False, False, False, False, False, False, False, False, False,\n",
       "        False, False, False, False, False, False, False, False, False,\n",
       "        False, False, False, False, False, False, False, False, False,\n",
       "        False, False, False, False, False, False, False, False, False,\n",
       "        False, False, False]),\n",
       " array([0.99588999, 0.81192301, 0.90274333, 0.94616047, 0.99445994,\n",
       "        0.62943923, 0.31142264, 0.90274333, 0.74206259, 0.97389975,\n",
       "        0.90274333, 0.86042158, 0.75015695, 0.97389975, 0.11862534,\n",
       "        0.86042158, 0.98281714, 0.62633814, 0.88482978, 0.74206259,\n",
       "        0.74206259, 0.86042158, 0.62943923, 0.31142264, 0.88482978,\n",
       "        0.86042158, 0.99588999, 0.84549455, 0.99588999, 0.86042158,\n",
       "        0.86042158, 0.90274333, 0.86042158, 0.88482978, 0.88482978,\n",
       "        0.62943923, 0.86042158, 0.92287594, 0.86042158, 0.86042158,\n",
       "        0.90274333, 0.97389975, 0.86042158, 0.86042158, 0.90274333,\n",
       "        0.94616047, 0.86042158, 0.81192301]),\n",
       " 0.0021926034684439655,\n",
       " 0.0020833333333333333)"
      ]
     },
     "execution_count": 128,
     "metadata": {},
     "output_type": "execute_result"
    }
   ],
   "source": [
    "result"
   ]
  },
  {
   "cell_type": "markdown",
   "id": "0935c6fe",
   "metadata": {},
   "source": [
    "### Logit"
   ]
  },
  {
   "cell_type": "code",
   "execution_count": 129,
   "id": "b7538215",
   "metadata": {},
   "outputs": [],
   "source": [
    "import statsmodels.api as sm\n",
    "from functools import reduce"
   ]
  },
  {
   "cell_type": "code",
   "execution_count": 130,
   "id": "2428f3f4",
   "metadata": {},
   "outputs": [],
   "source": [
    "big_dct = {}\n",
    "\n",
    "for key, value in speech_vocal_testing_dct.items():\n",
    "    big_dct[key] = value\n",
    "\n",
    "for key, value in emotion_testing_dct.items():\n",
    "    big_dct[key] = value"
   ]
  },
  {
   "cell_type": "code",
   "execution_count": 131,
   "id": "1b1ec39e",
   "metadata": {},
   "outputs": [],
   "source": [
    "all_titles = [value['titles'] for value in big_dct.values()]\n",
    "all_unique_titles = list(\n",
    "    reduce(lambda a, b: set(a).intersection(set(b)), all_titles)\n",
    ")"
   ]
  },
  {
   "cell_type": "code",
   "execution_count": 132,
   "id": "712f11c7",
   "metadata": {},
   "outputs": [
    {
     "name": "stdout",
     "output_type": "stream",
     "text": [
      "Optimization terminated successfully.\n",
      "         Current function value: 0.578714\n",
      "         Iterations 6\n",
      "Optimization terminated successfully.\n",
      "         Current function value: 0.615696\n",
      "         Iterations 5\n",
      "Optimization terminated successfully.\n",
      "         Current function value: 0.566967\n",
      "         Iterations 6\n",
      "Optimization terminated successfully.\n",
      "         Current function value: 0.651324\n",
      "         Iterations 5\n",
      "Optimization terminated successfully.\n",
      "         Current function value: 0.479302\n",
      "         Iterations 7\n",
      "Optimization terminated successfully.\n",
      "         Current function value: 0.550173\n",
      "         Iterations 6\n",
      "Optimization terminated successfully.\n",
      "         Current function value: 0.461850\n",
      "         Iterations 7\n",
      "Optimization terminated successfully.\n",
      "         Current function value: 0.577037\n",
      "         Iterations 6\n"
     ]
    }
   ],
   "source": [
    "from copy import deepcopy\n",
    "\n",
    "models = {'judge_1': None, 'judge_2': None, 'judge_3': None, 'judge_4': None}\n",
    "filtered_models = deepcopy(models)\n",
    "\n",
    "for judge_n in ['judge_1', 'judge_2', 'judge_3', 'judge_4']:\n",
    "    win_dataset_dct = defaultdict(lambda: [])\n",
    "    lose_dataset_dct = defaultdict(lambda: [])\n",
    "\n",
    "    for title in all_unique_titles:\n",
    "        for key, value in big_dct.items():\n",
    "            proper_idx = value['titles'].index(title)\n",
    "            win_dataset_dct[key].append(value[judge_n]['winners'][proper_idx])\n",
    "            lose_dataset_dct[key].append(value[judge_n]['losers'][proper_idx])\n",
    "\n",
    "    data = pd.DataFrame(win_dataset_dct)\n",
    "    data = pd.concat([data, pd.DataFrame(lose_dataset_dct)], axis=0, ignore_index=True)\n",
    "\n",
    "    X = sm.add_constant(data)\n",
    "    y = [1]*23 + [0]*23\n",
    "    \n",
    "    model = sm.Logit(y, X)\n",
    "    fitted_model = model.fit()\n",
    "    models[judge_n] = deepcopy(fitted_model)\n",
    "    \n",
    "    var_pvals = fitted_model.pvalues\n",
    "    sig_vars = var_pvals[var_pvals < 0.1].index.tolist()\n",
    "    \n",
    "    new_X = sm.add_constant(X[sig_vars])\n",
    "    filtered_model = sm.Logit(y, new_X)\n",
    "    fitted_filtered_model = filtered_model.fit()\n",
    "    \n",
    "    filtered_models[judge_n] = deepcopy(fitted_filtered_model)"
   ]
  },
  {
   "cell_type": "code",
   "execution_count": 133,
   "id": "08f24286",
   "metadata": {},
   "outputs": [
    {
     "name": "stdout",
     "output_type": "stream",
     "text": [
      "judge_1\n",
      "                           Logit Regression Results                           \n",
      "==============================================================================\n",
      "Dep. Variable:                      y   No. Observations:                   46\n",
      "Model:                          Logit   Df Residuals:                       43\n",
      "Method:                           MLE   Df Model:                            2\n",
      "Date:                Sun, 19 Jun 2022   Pseudo R-squ.:                  0.1117\n",
      "Time:                        12:58:46   Log-Likelihood:                -28.322\n",
      "converged:                       True   LL-Null:                       -31.885\n",
      "Covariance Type:            nonrobust   LLR p-value:                   0.02836\n",
      "===============================================================================\n",
      "                  coef    std err          z      P>|z|      [0.025      0.975]\n",
      "-------------------------------------------------------------------------------\n",
      "const          -8.4340      3.498     -2.411      0.016     -15.290      -1.578\n",
      "speech_rate     1.9233      1.098      1.752      0.080      -0.228       4.075\n",
      "speech_dur      0.0194      0.010      1.874      0.061      -0.001       0.040\n",
      "===============================================================================\n",
      "const          0.000217\n",
      "speech_rate    6.843537\n",
      "speech_dur     1.019593\n",
      "dtype: float64\n",
      "\n",
      "judge_2\n",
      "                           Logit Regression Results                           \n",
      "==============================================================================\n",
      "Dep. Variable:                      y   No. Observations:                   46\n",
      "Model:                          Logit   Df Residuals:                       43\n",
      "Method:                           MLE   Df Model:                            2\n",
      "Date:                Sun, 19 Jun 2022   Pseudo R-squ.:                 0.06034\n",
      "Time:                        12:58:46   Log-Likelihood:                -29.961\n",
      "converged:                       True   LL-Null:                       -31.885\n",
      "Covariance Type:            nonrobust   LLR p-value:                    0.1460\n",
      "====================================================================================\n",
      "                       coef    std err          z      P>|z|      [0.025      0.975]\n",
      "------------------------------------------------------------------------------------\n",
      "const                0.8341      0.620      1.346      0.178      -0.380       2.048\n",
      "speech_interrupt    -0.0697      0.043     -1.637      0.102      -0.153       0.014\n",
      "speech_question     -0.1667      0.150     -1.110      0.267      -0.461       0.128\n",
      "====================================================================================\n",
      "const               2.302739\n",
      "speech_interrupt    0.932648\n",
      "speech_question     0.846448\n",
      "dtype: float64\n",
      "\n",
      "judge_3\n",
      "                           Logit Regression Results                           \n",
      "==============================================================================\n",
      "Dep. Variable:                      y   No. Observations:                   46\n",
      "Model:                          Logit   Df Residuals:                       43\n",
      "Method:                           MLE   Df Model:                            2\n",
      "Date:                Sun, 19 Jun 2022   Pseudo R-squ.:                  0.2063\n",
      "Time:                        12:58:46   Log-Likelihood:                -25.308\n",
      "converged:                       True   LL-Null:                       -31.885\n",
      "Covariance Type:            nonrobust   LLR p-value:                  0.001392\n",
      "===============================================================================\n",
      "                  coef    std err          z      P>|z|      [0.025      0.975]\n",
      "-------------------------------------------------------------------------------\n",
      "const           5.4358      2.657      2.046      0.041       0.229      10.643\n",
      "speech_dur     -0.0289      0.012     -2.392      0.017      -0.053      -0.005\n",
      "instability     5.4581      2.540      2.149      0.032       0.481      10.436\n",
      "===============================================================================\n",
      "const          229.466207\n",
      "speech_dur       0.971480\n",
      "instability    234.662512\n",
      "dtype: float64\n",
      "\n",
      "judge_4\n",
      "                           Logit Regression Results                           \n",
      "==============================================================================\n",
      "Dep. Variable:                      y   No. Observations:                   46\n",
      "Model:                          Logit   Df Residuals:                       42\n",
      "Method:                           MLE   Df Model:                            3\n",
      "Date:                Sun, 19 Jun 2022   Pseudo R-squ.:                  0.1675\n",
      "Time:                        12:58:46   Log-Likelihood:                -26.544\n",
      "converged:                       True   LL-Null:                       -31.885\n",
      "Covariance Type:            nonrobust   LLR p-value:                   0.01357\n",
      "========================================================================================\n",
      "                           coef    std err          z      P>|z|      [0.025      0.975]\n",
      "----------------------------------------------------------------------------------------\n",
      "const                    1.7443      2.500      0.698      0.485      -3.155       6.643\n",
      "speech_interrupt        -0.1237      0.060     -2.076      0.038      -0.241      -0.007\n",
      "speech_role             13.0239      8.015      1.625      0.104      -2.685      28.733\n",
      "speech_role_opponent   -16.1175      7.663     -2.103      0.035     -31.137      -1.098\n",
      "========================================================================================\n",
      "const                   5.721797e+00\n",
      "speech_interrupt        8.836163e-01\n",
      "speech_role             4.531028e+05\n",
      "speech_role_opponent    1.000642e-07\n",
      "dtype: float64\n",
      "\n"
     ]
    }
   ],
   "source": [
    "for i in range(4):\n",
    "    print(f'judge_{i+1}')\n",
    "    print(filtered_models[f'judge_{i+1}'].summary())\n",
    "    print(np.exp(filtered_models[f'judge_{i+1}'].params))\n",
    "    print()"
   ]
  },
  {
   "cell_type": "markdown",
   "id": "11f66ae4",
   "metadata": {},
   "source": [
    "### Ordered model"
   ]
  },
  {
   "cell_type": "code",
   "execution_count": null,
   "id": "342b5642",
   "metadata": {},
   "outputs": [],
   "source": []
  }
 ],
 "metadata": {
  "kernelspec": {
   "display_name": "Python 3 (ipykernel)",
   "language": "python",
   "name": "python3"
  },
  "language_info": {
   "codemirror_mode": {
    "name": "ipython",
    "version": 3
   },
   "file_extension": ".py",
   "mimetype": "text/x-python",
   "name": "python",
   "nbconvert_exporter": "python",
   "pygments_lexer": "ipython3",
   "version": "3.9.13"
  }
 },
 "nbformat": 4,
 "nbformat_minor": 5
}
