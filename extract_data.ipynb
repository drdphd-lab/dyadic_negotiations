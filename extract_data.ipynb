{
 "cells": [
  {
   "cell_type": "code",
   "execution_count": 16,
   "id": "89514dd2",
   "metadata": {},
   "outputs": [],
   "source": [
    "import pickle\n",
    "import time\n",
    "import sys\n",
    "import os\n",
    "\n",
    "from tqdm import tqdm\n",
    "\n",
    "import numpy as np\n",
    "import pandas as pd\n",
    "\n",
    "from moviepy.editor import *\n",
    "\n",
    "from tools import download_video, extract_captions, url_to_id, video_to_chopped_audio"
   ]
  },
  {
   "cell_type": "code",
   "execution_count": 17,
   "id": "6b528adc",
   "metadata": {},
   "outputs": [],
   "source": [
    "sys.path.append('/Users/vall/opt/anaconda3/envs/stt_env/lib/python3.9/site-packages/')"
   ]
  },
  {
   "cell_type": "markdown",
   "id": "2d4c03f8",
   "metadata": {},
   "source": [
    "### Reading/Manipulating WA messages"
   ]
  },
  {
   "cell_type": "code",
   "execution_count": 38,
   "id": "77bf09ae",
   "metadata": {},
   "outputs": [],
   "source": [
    "with open('data/wa_video_urls.txt', 'rb') as f:\n",
    "    video_urls = f.readlines()\n",
    "video_urls = [line.decode('utf-8') for line in video_urls]"
   ]
  },
  {
   "cell_type": "code",
   "execution_count": 4,
   "id": "37910172",
   "metadata": {},
   "outputs": [],
   "source": [
    "# extracting urls\n",
    "urls = []\n",
    "for line in video_urls:\n",
    "    url_start = line.find('https:')\n",
    "    urls.append(line[url_start:].strip())"
   ]
  },
  {
   "cell_type": "code",
   "execution_count": 5,
   "id": "da08219c",
   "metadata": {},
   "outputs": [],
   "source": [
    "# with open('data/urls.pkl', mode='wb') as f:\n",
    "#     pickle.dump(urls, f)"
   ]
  },
  {
   "cell_type": "markdown",
   "id": "a16c74cb",
   "metadata": {},
   "source": [
    "### Downloading videos"
   ]
  },
  {
   "cell_type": "code",
   "execution_count": null,
   "id": "e16bbf53",
   "metadata": {},
   "outputs": [],
   "source": [
    "url_title_mapping = {}\n",
    "\n",
    "for link in tqdm(urls):\n",
    "    title = download_video(link, '/Users/vall/Desktop/negotiations/video/')\n",
    "    url_title_mapping[link] = title\n",
    "    time.sleep(2)"
   ]
  },
  {
   "cell_type": "code",
   "execution_count": 18,
   "id": "22a78979",
   "metadata": {},
   "outputs": [],
   "source": [
    "# with open('data/url_title_mapping.pkl', mode='wb') as f:\n",
    "#     pickle.dump(url_title_mapping, f)"
   ]
  },
  {
   "cell_type": "markdown",
   "id": "a93fd762",
   "metadata": {},
   "source": [
    "### Retrieving captions"
   ]
  },
  {
   "cell_type": "code",
   "execution_count": 25,
   "id": "a2af2e83",
   "metadata": {},
   "outputs": [
    {
     "name": "stderr",
     "output_type": "stream",
     "text": [
      "35it [01:29,  2.56s/it]\n"
     ]
    }
   ],
   "source": [
    "video_ids = [url_to_id(url) for url in urls]\n",
    "captions = {}\n",
    "for idx, video_id in tqdm(enumerate(video_ids)):\n",
    "    srt = extract_captions(video_id)\n",
    "    captions[urls[idx]] = srt\n",
    "    time.sleep(2)"
   ]
  },
  {
   "cell_type": "code",
   "execution_count": 28,
   "id": "bce3d0a6",
   "metadata": {},
   "outputs": [],
   "source": [
    "# with open('data/yt_captions.pkl', mode='wb') as f:\n",
    "#     pickle.dump(captions, f)"
   ]
  },
  {
   "cell_type": "markdown",
   "id": "6aa30e90",
   "metadata": {},
   "source": [
    "### General info"
   ]
  },
  {
   "cell_type": "code",
   "execution_count": 18,
   "id": "5f45332e",
   "metadata": {},
   "outputs": [],
   "source": [
    "video_dir = '/Users/vall/Desktop/negotiations/video/'\n",
    "videos = os.listdir(video_dir)"
   ]
  },
  {
   "cell_type": "code",
   "execution_count": 19,
   "id": "3f111cae",
   "metadata": {},
   "outputs": [],
   "source": [
    "names = list(map(lambda x: x[:-4] if x != '.DS_Store' else np.nan, videos))\n",
    "# player 1 / player 2 (left/right)\n",
    "player_gender = [\n",
    "    ('m', 'm'),\n",
    "    ('m', 'm'),\n",
    "    ('m', 'm'),\n",
    "    ('m', 'm'),\n",
    "    ('m', 'm'),\n",
    "    ('m', 'm'),\n",
    "    ('m', 'm'),\n",
    "    ('m', 'm'),\n",
    "    ('m', 'm'),\n",
    "    ('m', 'f'),\n",
    "    ('f', 'm'),\n",
    "    ('m', 'm'),\n",
    "    ('m', 'f'),\n",
    "    ('f', 'm'),\n",
    "    ('m', 'm'),\n",
    "    ('m', 'm'),\n",
    "    ('m', 'f'),\n",
    "    ('m', 'm'),\n",
    "    ('f', 'f'),\n",
    "    ('m', 'f'),\n",
    "    ('m', 'm'),\n",
    "    ('m', 'm'),\n",
    "    ('m', 'f'),\n",
    "    ('m', 'm'),\n",
    "    ('f', 'f'),\n",
    "    ('m', 'm'),\n",
    "    ('m', 'm'),\n",
    "    ('f', 'm'),\n",
    "    ('m', 'm'),\n",
    "    ('m', 'm'),\n",
    "    ('f', 'm'),\n",
    "    ('m', 'm'),\n",
    "    ('m', 'm'),\n",
    "    ('f', 'm'),\n",
    "    ('m', 'm'),\n",
    "]\n",
    "round_1_role = [\n",
    "    ('николай', 'александр'),\n",
    "    ('начальник цеха №1 петр иванович', 'начальник цеха №2 александр дмитриевич'),\n",
    "    ('директор', 'представитель коллектива'),\n",
    "    ('бизнес-тренер', 'консультант'),\n",
    "    ('генеральный директор', 'коммерческий директор'),\n",
    "    ('директор компании', 'начальник отдела продаж'),\n",
    "    ('сергей', 'коммерческий директор'),\n",
    "    ('консультант', 'бизнес-тренер'),\n",
    "    ('менеджер', 'генеральный директор'),\n",
    "    ('начальник отдела', 'тестировщик'),\n",
    "    ('директор сети кофеен', 'директор сети заправок'),\n",
    "    ('второй собственник', 'первый собственник'),\n",
    "    ('клиент', 'петр'),\n",
    "    ('муж', 'жена'),\n",
    "    ('директор', 'начальник отдела'),\n",
    "    ('александр', 'юрий'),\n",
    "    ('юрист', 'бухгалтер'),\n",
    "    ('клиент', 'директор компании'),\n",
    "    ('владелец спецтехники', 'знакомый'),\n",
    "    ('авторитетная заведующая дошкольного учреждения', 'коллега 2'),\n",
    "    ('hr-менеджер', 'молодой специалист'),\n",
    "    ('компания «алтай»', 'компания «байкал»'),\n",
    "    ('директор рекламного агентства', 'компания-заказчик'),\n",
    "    ('арендодатель', 'директор компании «вереск»'),\n",
    "    ('специалист', 'коммерческий директор'),\n",
    "    ('зам. генерального директора', 'менеджер по продажам'),\n",
    "    ('руководитель отдела продаж', 'новый сотрудник'),\n",
    "    ('начальник подразделения а', 'сотрудник'),\n",
    "    ('руководитель коммерческого департамента', 'директор по персоналу'),\n",
    "    ('первый кандидат', 'третий кандидат'),\n",
    "    ('директор рекламного агентства', 'директор компании заказчика'),\n",
    "    ('директор школы', 'классный руководитель'),\n",
    "    ('родители отличницы', 'директор школы'),\n",
    "    ('собственник', 'директор'),\n",
    "    ('собственник', 'директор'),\n",
    "]\n",
    "round_2_role = [\n",
    "    ('николай', 'татьяна'),\n",
    "    ('начальник цеха №1 петр иванович', 'станочник алексей'),\n",
    "    ('менеджер по продажам', 'директор'),\n",
    "    ('консультант', 'бизнес-тренер'),\n",
    "    ('коммерческий директор', 'жена генерального директора'),\n",
    "    ('ведущий менеджер', 'начальник отдела продаж'),\n",
    "    ('сергей', 'александр'),\n",
    "    ('издатель', 'бизнес-тренер'),\n",
    "    ('начальник охраны', 'менеджер'),\n",
    "    ('тестировщик', 'начальник отдела'),\n",
    "    ('директор сети кофеен', 'директор сети заправок'),\n",
    "    ('первый собственник', 'второй собственник'),\n",
    "    ('евгений', 'клиент'),\n",
    "    ('жена', 'муж'),\n",
    "    ('сотрудник', 'начальник отдела'),\n",
    "    ('юрий', 'александр'),\n",
    "    ('юрист', 'бухгалтер'),\n",
    "    ('клиент', 'директор компании'),\n",
    "    ('владелец спецтехники', 'директор компании «рога и копыта»'),\n",
    "    ('авторитетная заведующая дошкольного учреждения', 'ведущий специалист'),\n",
    "    ('молодой специалист', 'hr-менеджер'),\n",
    "    ('компания «байкал»', 'компания «алтай»'),\n",
    "    ('директор рекламного агентства', 'производитель'),\n",
    "    ('арендодатель', 'директор компании «вереск»'),\n",
    "    ('специалист', 'коммерческий директор'),\n",
    "    ('зам. генерального директора', 'генеральный директор'),\n",
    "    ('новый сотрудник', 'опытный сотрудник'),\n",
    "    ('сотрудник', 'начальник подразделения б'),\n",
    "    ('руководитель коммерческого департамента', 'директор по персоналу'),\n",
    "    ('третий кандидат', 'руководитель'),\n",
    "    ('директор рекламного агентства', 'директор компании заказчика'),\n",
    "    ('учительница математики', 'классный руководитель'),\n",
    "    ('классный руководитель', 'директор школы'),\n",
    "    ('директор филиала', 'директор'),\n",
    "    ('директор', 'собственник'),\n",
    "]\n",
    "round_1_time = [\n",
    "    ('00:17', '04:20'),\n",
    "    ('00:15', '04:14'),\n",
    "    ('00:14', '04:19'),\n",
    "    ('00:28', '04:30'),\n",
    "    ('00:19', '04:18'),\n",
    "    ('00:24', '04:15'),\n",
    "    ('00:23', '04:15'),\n",
    "    ('00:17', '04:25'),\n",
    "    ('00:14', '04:12'),\n",
    "    ('00:17', '04:14'),\n",
    "    ('00:32', '04:47'),\n",
    "    ('00:22', '04:14'),\n",
    "    ('00:15', '04:12'),\n",
    "    ('00:17', '04:11'),\n",
    "    ('00:17', '04:14'),\n",
    "    ('00:15', '04:10'),\n",
    "    ('00:22', '04:12'),\n",
    "    ('00:16', '04:11'),\n",
    "    ('00:19', '04:10'),\n",
    "    ('00:33', '04:21'),\n",
    "    ('00:17', '04:13'),\n",
    "    ('00:19', '04:20'),\n",
    "    ('00:17', '04:12'),\n",
    "    ('00:33', '04:29'),\n",
    "    ('00:20', '04:15'),\n",
    "    ('00:23', '04:12'),\n",
    "    ('00:19', '04:12'),\n",
    "    ('00:16', '03:17'),\n",
    "    ('00:19', '04:44'),\n",
    "    ('00:35', '04:10'),\n",
    "    ('00:23', '04:15'),\n",
    "    ('00:17', '04:12'),\n",
    "    ('00:21', '04:19'),\n",
    "    ('00:17', '04:21'),\n",
    "    ('00:16', '04:22'),\n",
    "]\n",
    "round_2_time = [\n",
    "    ('04:36', '08:57'),\n",
    "    ('04:36', '08:23'),\n",
    "    ('04:33', '08:25'),\n",
    "    ('04:43', '07:58'),\n",
    "    ('04:42', '08:26'),\n",
    "    ('04:27', '08:17'),\n",
    "    ('04:42', '08:48'),\n",
    "    ('04:45', '08:39'),\n",
    "    ('04:29', '08:40'),\n",
    "    ('04:26', '08:22'),\n",
    "    ('04:54', '09:00'),\n",
    "    ('04:36', '08:30'),\n",
    "    ('04:31', '08:28'),\n",
    "    ('04:40', '08:36'),\n",
    "    ('04:28', '08:25'),\n",
    "    ('04:26', '08:20'),\n",
    "    ('04:35', '08:22'),\n",
    "    ('04:44', '08:23'),\n",
    "    ('04:50', '08:50'),\n",
    "    ('04:40', '08:31'),\n",
    "    ('04:37', '08:35'),\n",
    "    ('04:47', '08:29'),\n",
    "    ('04:33', '08:21'),\n",
    "    ('04:50', '09:13'),\n",
    "    ('04:26', '08:23'),\n",
    "    ('04:26', '08:23'),\n",
    "    ('04:32', '08:24'),\n",
    "    ('03:43', '08:53'),\n",
    "    ('04:55', '09:10'),\n",
    "    ('04:24', '08:15'),\n",
    "    ('04:28', '08:29'),\n",
    "    ('04:30', '08:21'),\n",
    "    ('04:34', '10:33'),\n",
    "    ('04:39', '08:32'),\n",
    "    ('04:41', '08:49'),\n",
    "]\n",
    "judge_time = [\n",
    "    ('09:03', '13:54', '15:04'),\n",
    "    ('08:30', '09:46', '10:44'),\n",
    "    ('08:32', '11:00', '12:39'),\n",
    "    ('08:08', '09:10', '11:18'),\n",
    "    ('08:31', '09:40', '11:40'),\n",
    "    ('-', '-', '-'),\n",
    "    ('08:55', '12:26', '14:09'),\n",
    "    ('08:40', '10:23', '12:54'),\n",
    "    ('08:40', '11:13', '12:20'),\n",
    "    ('08:29', '10:18', '12:07'),\n",
    "    ('09:06', '10:37', '13:15'),\n",
    "    ('08:36', '10:48', '11:57'),\n",
    "    ('08:30', '09:34', '11:48'),\n",
    "    ('08:41', '11:38', '13:32'),\n",
    "    ('08:34', '09:16', '10:35'),\n",
    "    ('08:28', '10:40', '14:38'),\n",
    "    ('08:28', '09:35', '12:18'),\n",
    "    ('08:26', '10:15', '12:53'),\n",
    "    ('08:56', '10:20', '11:29'),\n",
    "    ('08:40', '10:29', '11:21'),\n",
    "    ('08:40', '11:50', '12:28'),\n",
    "    ('08:33', '09:34', '11:18'),\n",
    "    ('08:27', '09:38', '11:02'),\n",
    "    ('09:16', '10:02', '11:34'),\n",
    "    ('08:29', '09:45', '11:18'),\n",
    "    ('08:28', '10:10', '11:08'),\n",
    "    ('08:29', '09:17', '11:11'),\n",
    "    ('08:57', '09:48', '10:36'),\n",
    "    ('09:18', '11:54', '13:17'),\n",
    "    ('08:21', '09:25', '11:19'),\n",
    "    ('08:36', '09:39', '11:56'),\n",
    "    ('08:30', '08:41', '09:52'),\n",
    "    ('10:39', '13:30', '16:00'),\n",
    "    ('08:41', '11:08', '14:04'),\n",
    "    ('08:50', '09:18', '11:20'),\n",
    "]\n",
    "judge_decision = [\n",
    "    ('player_1', 'player_2', 'player_1', 'player_1'),\n",
    "    ('player_1', 'player_1', 'player_2', 'player_1'),\n",
    "    ('player_2', 'player_1', 'player_2', 'player_2'),\n",
    "    ('player_2', 'player_2', 'player_1', 'player_2'),\n",
    "    ('player_1', 'player_1', 'player_1', 'player_1'),\n",
    "    ('-', '-', '-', '-'),\n",
    "    ('player_2', 'player_1', 'player_2', 'player_2'),\n",
    "    ('player_1', 'player_1', 'player_2', 'player_1'),\n",
    "    ('player_1', 'player_1', 'player_1', 'player_1'),\n",
    "    ('player_2', 'player_2', 'player_2', 'player_2'),\n",
    "    ('player_2', 'player_1', 'player_2', 'player_2'),\n",
    "    ('player_1', 'player_2', 'player_1', 'player_1'),\n",
    "    ('player_1', 'player_2', 'player_2', 'player_2'),\n",
    "    ('player_2', 'player_2', 'player_2', 'player_2'),\n",
    "    ('player_2', 'player_1', 'player_1', 'player_1'),\n",
    "    ('player_1', 'player_2', 'player_2', 'player_2'),\n",
    "    ('player_2', 'player_2', 'player_1', 'player_2'),\n",
    "    ('player_1', 'player_1', 'player_2', 'player_1'),\n",
    "    ('player_1', 'player_2', 'player_2', 'player_2'),\n",
    "    ('player_2', 'player_2', 'player_2', 'player_2'),\n",
    "    ('player_1', 'player_2', 'player_2', 'player_2'),\n",
    "    ('player_1', 'player_2', 'player_1', 'player_1'),\n",
    "    ('player_2', 'player_1', 'player_1', 'player_1'),\n",
    "    ('player_1', 'player_1', 'player_1', 'player_1'),\n",
    "    ('player_1', 'player_2', 'player_1', 'player_1'),\n",
    "    ('player_1', 'player_2', 'player_1', 'player_1'),\n",
    "    ('player_1', 'player_1', 'player_2', 'player_1'),\n",
    "    ('player_1', 'player_1', 'player_2', 'player_1'),\n",
    "    ('player_1', 'player_2', 'player_1', 'player_1'),\n",
    "    ('player_1', 'player_1', 'player_1', 'player_1'),\n",
    "    ('player_2', 'player_1', 'player_2', 'player_2'),\n",
    "    ('player_2', 'player_2', 'player_2', 'player_2'),\n",
    "    ('player_1', 'player_1', 'player_2', 'player_1'),\n",
    "    ('player_1', 'player_1', 'player_1', 'player_1'),\n",
    "    ('player_1', 'player_2', 'player_2', 'player_2')\n",
    "]\n",
    "issue = [\n",
    "    'c 05:50 по 06:27 проблема со связью и игрока номер 2',\n",
    "    '-',\n",
    "    '-',\n",
    "    '-',\n",
    "    '-',\n",
    "    'не онлайн, а офлайн поединок (сложно выделить эмоции) + нет судейского мнения',\n",
    "    '-',\n",
    "    '-',\n",
    "    '-',\n",
    "    '-',\n",
    "    '-',\n",
    "    '-',\n",
    "    '-',\n",
    "    'с 02:58 по 03:13 у игрока 2 проблемы с камерой, после чего своп сторон камер + плохая связь у игрока 2',\n",
    "    '-',\n",
    "    '-',\n",
    "    '-',\n",
    "    '-',\n",
    "    '-',\n",
    "    '-',\n",
    "    '-',\n",
    "    '-',\n",
    "    '-',\n",
    "    '-',\n",
    "    '-',\n",
    "    '-',\n",
    "    '-',\n",
    "    '-',\n",
    "    'с 02:15 по 02:58 у игрока 1 проблемы со связью, переговоров по сути нет в это время',\n",
    "    '-',\n",
    "    'с 07:48 по 08:05 остается только экран игрока 2, потом все нормально',\n",
    "    '-',\n",
    "    'С 07:22 по 08:04 игрок 1 завис, по факту раунд продолжился с 09:36',\n",
    "    '-',\n",
    "    'на 00:58 происходит своп экранов + с 07:27 по 08:23 пропадает камера игрока 1'\n",
    "]"
   ]
  },
  {
   "cell_type": "code",
   "execution_count": 20,
   "id": "36eb5d34",
   "metadata": {},
   "outputs": [
    {
     "data": {
      "text/html": [
       "<div>\n",
       "<style scoped>\n",
       "    .dataframe tbody tr th:only-of-type {\n",
       "        vertical-align: middle;\n",
       "    }\n",
       "\n",
       "    .dataframe tbody tr th {\n",
       "        vertical-align: top;\n",
       "    }\n",
       "\n",
       "    .dataframe thead th {\n",
       "        text-align: right;\n",
       "    }\n",
       "</style>\n",
       "<table border=\"1\" class=\"dataframe\">\n",
       "  <thead>\n",
       "    <tr style=\"text-align: right;\">\n",
       "      <th></th>\n",
       "      <th>title</th>\n",
       "      <th>player_gender</th>\n",
       "      <th>round_1_role</th>\n",
       "      <th>round_2_role</th>\n",
       "      <th>round_1_time</th>\n",
       "      <th>round_2_time</th>\n",
       "      <th>judge_time</th>\n",
       "      <th>judge_decision</th>\n",
       "      <th>issue</th>\n",
       "    </tr>\n",
       "  </thead>\n",
       "  <tbody>\n",
       "    <tr>\n",
       "      <th>0</th>\n",
       "      <td>20200415 - Cherchez la femme</td>\n",
       "      <td>(m, m)</td>\n",
       "      <td>(николай, александр)</td>\n",
       "      <td>(николай, татьяна)</td>\n",
       "      <td>(00:17, 04:20)</td>\n",
       "      <td>(04:36, 08:57)</td>\n",
       "      <td>(09:03, 13:54, 15:04)</td>\n",
       "      <td>(player_1, player_2, player_1, player_1)</td>\n",
       "      <td>c 05:50 по 06:27 проблема со связью и игрока н...</td>\n",
       "    </tr>\n",
       "    <tr>\n",
       "      <th>1</th>\n",
       "      <td>20200520 - Уникальный станочник</td>\n",
       "      <td>(m, m)</td>\n",
       "      <td>(начальник цеха №1 петр иванович, начальник це...</td>\n",
       "      <td>(начальник цеха №1 петр иванович, станочник ал...</td>\n",
       "      <td>(00:15, 04:14)</td>\n",
       "      <td>(04:36, 08:23)</td>\n",
       "      <td>(08:30, 09:46, 10:44)</td>\n",
       "      <td>(player_1, player_1, player_2, player_1)</td>\n",
       "      <td>-</td>\n",
       "    </tr>\n",
       "    <tr>\n",
       "      <th>2</th>\n",
       "      <td>20200429 - Конфликтный сотрудник</td>\n",
       "      <td>(m, m)</td>\n",
       "      <td>(директор, представитель коллектива)</td>\n",
       "      <td>(менеджер по продажам, директор)</td>\n",
       "      <td>(00:14, 04:19)</td>\n",
       "      <td>(04:33, 08:25)</td>\n",
       "      <td>(08:32, 11:00, 12:39)</td>\n",
       "      <td>(player_2, player_1, player_2, player_2)</td>\n",
       "      <td>-</td>\n",
       "    </tr>\n",
       "    <tr>\n",
       "      <th>3</th>\n",
       "      <td>20200520 - Гонорар 1</td>\n",
       "      <td>(m, m)</td>\n",
       "      <td>(бизнес-тренер, консультант)</td>\n",
       "      <td>(консультант, бизнес-тренер)</td>\n",
       "      <td>(00:28, 04:30)</td>\n",
       "      <td>(04:43, 07:58)</td>\n",
       "      <td>(08:08, 09:10, 11:18)</td>\n",
       "      <td>(player_2, player_2, player_1, player_2)</td>\n",
       "      <td>-</td>\n",
       "    </tr>\n",
       "    <tr>\n",
       "      <th>4</th>\n",
       "      <td>20200422 - Играть нельзя работать</td>\n",
       "      <td>(m, m)</td>\n",
       "      <td>(генеральный директор, коммерческий директор)</td>\n",
       "      <td>(коммерческий директор, жена генерального дире...</td>\n",
       "      <td>(00:19, 04:18)</td>\n",
       "      <td>(04:42, 08:26)</td>\n",
       "      <td>(08:31, 09:40, 11:40)</td>\n",
       "      <td>(player_1, player_1, player_1, player_1)</td>\n",
       "      <td>-</td>\n",
       "    </tr>\n",
       "  </tbody>\n",
       "</table>\n",
       "</div>"
      ],
      "text/plain": [
       "                               title player_gender  \\\n",
       "0       20200415 - Cherchez la femme        (m, m)   \n",
       "1   20200520 - Уникальный станочник        (m, m)   \n",
       "2   20200429 - Конфликтный сотрудник        (m, m)   \n",
       "3               20200520 - Гонорар 1        (m, m)   \n",
       "4  20200422 - Играть нельзя работать        (m, m)   \n",
       "\n",
       "                                        round_1_role  \\\n",
       "0                               (николай, александр)   \n",
       "1  (начальник цеха №1 петр иванович, начальник це...   \n",
       "2               (директор, представитель коллектива)   \n",
       "3                       (бизнес-тренер, консультант)   \n",
       "4      (генеральный директор, коммерческий директор)   \n",
       "\n",
       "                                        round_2_role    round_1_time  \\\n",
       "0                                 (николай, татьяна)  (00:17, 04:20)   \n",
       "1  (начальник цеха №1 петр иванович, станочник ал...  (00:15, 04:14)   \n",
       "2                   (менеджер по продажам, директор)  (00:14, 04:19)   \n",
       "3                       (консультант, бизнес-тренер)  (00:28, 04:30)   \n",
       "4  (коммерческий директор, жена генерального дире...  (00:19, 04:18)   \n",
       "\n",
       "     round_2_time             judge_time  \\\n",
       "0  (04:36, 08:57)  (09:03, 13:54, 15:04)   \n",
       "1  (04:36, 08:23)  (08:30, 09:46, 10:44)   \n",
       "2  (04:33, 08:25)  (08:32, 11:00, 12:39)   \n",
       "3  (04:43, 07:58)  (08:08, 09:10, 11:18)   \n",
       "4  (04:42, 08:26)  (08:31, 09:40, 11:40)   \n",
       "\n",
       "                             judge_decision  \\\n",
       "0  (player_1, player_2, player_1, player_1)   \n",
       "1  (player_1, player_1, player_2, player_1)   \n",
       "2  (player_2, player_1, player_2, player_2)   \n",
       "3  (player_2, player_2, player_1, player_2)   \n",
       "4  (player_1, player_1, player_1, player_1)   \n",
       "\n",
       "                                               issue  \n",
       "0  c 05:50 по 06:27 проблема со связью и игрока н...  \n",
       "1                                                  -  \n",
       "2                                                  -  \n",
       "3                                                  -  \n",
       "4                                                  -  "
      ]
     },
     "execution_count": 20,
     "metadata": {},
     "output_type": "execute_result"
    }
   ],
   "source": [
    "general_info = pd.DataFrame({\n",
    "    'title':  np.array(names)[np.array(names) != 'nan'],\n",
    "    'player_gender': player_gender,\n",
    "    'round_1_role': round_1_role,\n",
    "    'round_2_role': round_2_role,\n",
    "    'round_1_time': round_1_time,\n",
    "    'round_2_time': round_2_time,\n",
    "    'judge_time': judge_time,\n",
    "    'judge_decision': judge_decision,\n",
    "    'issue': issue\n",
    "})\n",
    "general_info.head()"
   ]
  },
  {
   "cell_type": "code",
   "execution_count": 21,
   "id": "ece9de4d",
   "metadata": {},
   "outputs": [],
   "source": [
    "# fixing glitched name\n",
    "general_info.loc[24, 'title'] = '20200408 - Ценный сотрудник'"
   ]
  },
  {
   "cell_type": "code",
   "execution_count": 22,
   "id": "b84157c4",
   "metadata": {},
   "outputs": [],
   "source": [
    "general_info.loc[1, 'title'] = '20200520 - Уникальный станочник'"
   ]
  },
  {
   "cell_type": "markdown",
   "id": "f60373dd",
   "metadata": {},
   "source": [
    "### Convert mp4 to mp3"
   ]
  },
  {
   "cell_type": "markdown",
   "id": "9ea159b5",
   "metadata": {},
   "source": [
    "Короткие аудио для speech to text"
   ]
  },
  {
   "cell_type": "code",
   "execution_count": null,
   "id": "76d3cf1c",
   "metadata": {},
   "outputs": [],
   "source": [
    "videos = os.listdir('/Users/vall/Desktop/negotiations/video')\n",
    "for video in tqdm(videos):\n",
    "    root_dir = '/Users/vall/Desktop/negotiations'\n",
    "    if video != '.DS_Store':\n",
    "        video_to_chopped_audio(\n",
    "            f'{root_dir}/video/{video}', f'{root_dir}/audio/{video[:-4]}/'\n",
    "        )"
   ]
  },
  {
   "cell_type": "markdown",
   "id": "3bfd73d9",
   "metadata": {},
   "source": [
    "Короткие аудио для диаризации"
   ]
  },
  {
   "cell_type": "code",
   "execution_count": 30,
   "id": "799c8f96",
   "metadata": {},
   "outputs": [],
   "source": [
    "end_mapping = dict(\n",
    "    zip(\n",
    "        general_info['title'],\n",
    "        general_info['round_2_time'].map(lambda x: int(x[1][:2]) * 60 + int(x[1][3:]))\n",
    "    )\n",
    ")"
   ]
  },
  {
   "cell_type": "code",
   "execution_count": null,
   "id": "bca3cc95",
   "metadata": {},
   "outputs": [],
   "source": [
    "for video in tqdm(videos):\n",
    "    root_dir = '/Users/vall/Desktop/negotiations'\n",
    "    if video != '.DS_Store':\n",
    "        clip = (\n",
    "            VideoFileClip(root_dir + '/video/' + video)\n",
    "            .subclip(t_end=end_mapping[video[:-4]])\n",
    "        )\n",
    "        clip.audio.write_audiofile(f'{root_dir}/audio/full/{video[:-4]}.ogg', fps=16000)"
   ]
  },
  {
   "cell_type": "markdown",
   "id": "8fa41f71",
   "metadata": {},
   "source": [
    "### Pytesseract (требует доделки)"
   ]
  },
  {
   "cell_type": "code",
   "execution_count": 109,
   "id": "0b133a6a",
   "metadata": {},
   "outputs": [
    {
     "name": "stderr",
     "output_type": "stream",
     "text": [
      "100%|███████████████████████████████████████████| 36/36 [00:38<00:00,  1.06s/it]\n"
     ]
    }
   ],
   "source": [
    "for video in tqdm(videos):\n",
    "    root_dir = '/Users/vall/Desktop/negotiations'\n",
    "    if video != '.DS_Store':\n",
    "        clip = VideoFileClip(root_dir + '/video/' + video)\n",
    "        clip.save_frame(f'{root_dir}/desc/desc_pic/{video[:-4]}.png', 7)"
   ]
  },
  {
   "cell_type": "code",
   "execution_count": 23,
   "id": "d6e34da9",
   "metadata": {},
   "outputs": [],
   "source": [
    "root_dir = '/Users/vall/Desktop/negotiations'"
   ]
  },
  {
   "cell_type": "code",
   "execution_count": 24,
   "id": "0b43b1e4",
   "metadata": {},
   "outputs": [],
   "source": [
    "def extract_desc_and_roles(file_path):\n",
    "    \"\"\"Get txt description and roles with their interests.\n",
    "    \n",
    "    Parameters\n",
    "    ----------\n",
    "    file_path : str\n",
    "        Path to txt file\n",
    "    \n",
    "    Returns\n",
    "    -------\n",
    "    desc : str\n",
    "        Description of situation.\n",
    "    role_interest : dict\n",
    "        Dictionary with role as key and interest as value\n",
    "    \"\"\"\n",
    "    with open(file_path, mode='r') as f:\n",
    "        txt_file = f.readlines()\n",
    "    \n",
    "    role_interest_val = sum(list(map(lambda x: 'роли и интересы' in x.lower(), txt_file)))\n",
    "    if role_interest_val != 1:\n",
    "        raise ValueError(\n",
    "            \"File doesn't contain (contains more than) one line of 'роли и интересы'\"\n",
    "        )\n",
    "    \n",
    "    role_interest_idx = list(\n",
    "        map(lambda x: 'роли и интересы' in x.lower(), txt_file)\n",
    "    ).index(True)\n",
    "    fixed_text = list(map(lambda x: x.replace('\\n', ''), txt_file))\n",
    "    desc = \" \".join(fixed_text[1:role_interest_idx])\n",
    "    \n",
    "    role_interest = {}\n",
    "    for line in fixed_text[role_interest_idx+1:]:\n",
    "        if '—' in line:\n",
    "            role_end = line.find('—')\n",
    "            current_role = line[:role_end].strip().lower().replace('(', '')\n",
    "            role_interest[current_role] = (\n",
    "                line[role_end+1:].strip()\n",
    "            )\n",
    "        else:\n",
    "            role_interest[current_role] += \" \" + line.strip()\n",
    "    \n",
    "    return desc, role_interest"
   ]
  },
  {
   "cell_type": "code",
   "execution_count": 25,
   "id": "d6311446",
   "metadata": {},
   "outputs": [],
   "source": [
    "descriptions, role_interest = {}, {}\n",
    "\n",
    "txt_files = os.listdir(f'{root_dir}/desc/desc_txt/')\n",
    "for txt_file in txt_files:\n",
    "    if txt_file != '.DS_Store':\n",
    "        full_path = f'{root_dir}/desc/desc_txt/' + txt_file\n",
    "        desc, role_int = extract_desc_and_roles(full_path)\n",
    "        # Glitched name\n",
    "        new_name = []\n",
    "        for char in txt_file:\n",
    "            if char == '̆':\n",
    "                new_name[-1] = 'й'\n",
    "            else:\n",
    "                new_name.append(char)\n",
    "\n",
    "        descriptions[''.join(new_name)[:-4]] = desc\n",
    "        role_interest[''.join(new_name)[:-4]] = role_int"
   ]
  },
  {
   "cell_type": "code",
   "execution_count": 26,
   "id": "a32f37dd",
   "metadata": {},
   "outputs": [],
   "source": [
    "general_info['desc'] = general_info['title'].map(descriptions)\n",
    "general_info['role_interest'] = general_info['title'].map(role_interest)"
   ]
  },
  {
   "cell_type": "code",
   "execution_count": 27,
   "id": "8220ff17",
   "metadata": {},
   "outputs": [],
   "source": [
    "general_info.to_pickle('data/general_info.pkl')"
   ]
  },
  {
   "cell_type": "markdown",
   "id": "28f8b345",
   "metadata": {},
   "source": [
    "### EDA"
   ]
  },
  {
   "cell_type": "markdown",
   "id": "1917cb2e",
   "metadata": {},
   "source": [
    "Доступные для выбора роли всего"
   ]
  },
  {
   "cell_type": "code",
   "execution_count": 430,
   "id": "7a8d96ab",
   "metadata": {},
   "outputs": [],
   "source": [
    "available_roles = general_info['role_interest'].map(lambda x: list(x.keys())).explode()"
   ]
  },
  {
   "cell_type": "code",
   "execution_count": 467,
   "id": "74f572ea",
   "metadata": {},
   "outputs": [
    {
     "data": {
      "text/plain": [
       "директор                         5\n",
       "генеральный директор             5\n",
       "коммерческий директор            5\n",
       "александр                        3\n",
       "сотрудник                        3\n",
       "клиент                           3\n",
       "директор компании                2\n",
       "директор филиала                 2\n",
       "директор школы                   2\n",
       "классный руководитель            2\n",
       "родители отличницы               2\n",
       "учительница математики           2\n",
       "директор рекламного агентства    2\n",
       "руководитель                     2\n",
       "начальник отдела                 2\n",
       "менеджер                         2\n",
       "собственник                      2\n",
       "бизнес-тренер                    2\n",
       "менеджер по продажам             2\n",
       "консультант                      2\n",
       "Name: role_interest, dtype: int64"
      ]
     },
     "execution_count": 467,
     "metadata": {},
     "output_type": "execute_result"
    }
   ],
   "source": [
    "available_roles.value_counts().head(20)"
   ]
  },
  {
   "cell_type": "markdown",
   "id": "18915dbd",
   "metadata": {},
   "source": [
    "Возможность использовать власть и статус"
   ]
  },
  {
   "cell_type": "code",
   "execution_count": 509,
   "id": "a131de3a",
   "metadata": {},
   "outputs": [
    {
     "name": "stdout",
     "output_type": "stream",
     "text": [
      "Коммерческий директор завода в начале года пообещал увеличение заработка Директору филиала (при этом условия чётко не оговаривались}. В течение года по рыночным условиям доходы завода упали, но показатели филиала улучшились. Директор завода запретил Коммерческому директору увеличивать фонд заработной платы. Директор филиала жалуется Собственнику завода (у них хорошие отношения) и шантажирует Коммерческого директора уходом. Собственник требует улучшения показателей от Директора завода и не хочет ухода Директора филиала. В случае неразрешимости конфликта требует уволить Коммерческого директора и на его место поставить Директора филиала. Директор завода не хочет увольнять Коммерческого директора, поскольку потеряет управляемость коммерческой службой. Собственник требует разрешить конфликт.\n",
      "\n",
      "['директор филиала', 'коммерческий директор', 'директор', 'собственник']\n",
      "\n",
      "('собственник', 'директор')\n"
     ]
    }
   ],
   "source": [
    "idx = 34\n",
    "print(general_info['desc'].iloc[idx])\n",
    "print('')\n",
    "print(general_info['role_interest'].map(lambda x: list(x.keys())).iloc[idx])\n",
    "print('')\n",
    "print(general_info['round_1_role'].iloc[idx])"
   ]
  },
  {
   "cell_type": "code",
   "execution_count": 559,
   "id": "13282361",
   "metadata": {},
   "outputs": [],
   "source": [
    "round_1_status = [\n",
    "    ('available', 'not used'),\n",
    "    ('available', 'not used'),\n",
    "    ('available', 'used'),\n",
    "    ('available', 'not used'),\n",
    "    ('available', 'used'),\n",
    "    ('available', 'used'),\n",
    "    ('available', 'not used'),\n",
    "    ('available', 'not used'),\n",
    "    ('available', 'not used'),\n",
    "    ('available', 'used'),\n",
    "    ('available', 'not used'),\n",
    "    ('available', 'not used'),\n",
    "    ('available', 'not used'),\n",
    "    ('not available', 'not used'),\n",
    "    ('available', 'used'),\n",
    "    ('not available', 'not used'),\n",
    "    ('available', 'not used'),\n",
    "    ('available', 'not used'),\n",
    "    ('available', 'used'),\n",
    "    ('available', 'used'),\n",
    "    ('available', 'used'),\n",
    "    ('not available', 'not used'),\n",
    "    ('not available', 'not used'),\n",
    "    ('available', 'used'),\n",
    "    ('available', 'not used'),\n",
    "    ('available', 'used'),\n",
    "    ('available', 'used'),\n",
    "    ('available', 'used'),\n",
    "    ('not available', 'not used'),\n",
    "    ('available', 'not used'),\n",
    "    ('available', 'not used'),\n",
    "    ('available', 'used'),\n",
    "    ('available', 'not used'),\n",
    "    ('available', 'used'),\n",
    "    ('available', 'used'),\n",
    "]"
   ]
  },
  {
   "cell_type": "code",
   "execution_count": 560,
   "id": "007f6151",
   "metadata": {},
   "outputs": [
    {
     "name": "stdout",
     "output_type": "stream",
     "text": [
      "Коммерческий директор завода в начале года пообещал увеличение заработка Директору филиала (при этом условия чётко не оговаривались}. В течение года по рыночным условиям доходы завода упали, но показатели филиала улучшились. Директор завода запретил Коммерческому директору увеличивать фонд заработной платы. Директор филиала жалуется Собственнику завода (у них хорошие отношения) и шантажирует Коммерческого директора уходом. Собственник требует улучшения показателей от Директора завода и не хочет ухода Директора филиала. В случае неразрешимости конфликта требует уволить Коммерческого директора и на его место поставить Директора филиала. Директор завода не хочет увольнять Коммерческого директора, поскольку потеряет управляемость коммерческой службой. Собственник требует разрешить конфликт.\n",
      "\n",
      "['директор филиала', 'коммерческий директор', 'директор', 'собственник']\n",
      "\n",
      "('директор', 'собственник')\n"
     ]
    }
   ],
   "source": [
    "idx = 34\n",
    "print(general_info['desc'].iloc[idx])\n",
    "print('')\n",
    "print(general_info['role_interest'].map(lambda x: list(x.keys())).iloc[idx])\n",
    "print('')\n",
    "print(general_info['round_2_role'].iloc[idx])"
   ]
  },
  {
   "cell_type": "code",
   "execution_count": 561,
   "id": "c40ba3cc",
   "metadata": {},
   "outputs": [],
   "source": [
    "round_2_status = [\n",
    "    ('available', 'not used'),\n",
    "    ('available', 'not used'),\n",
    "    ('available', 'used'),\n",
    "    ('available', 'not used'),\n",
    "    ('available', 'not used'),\n",
    "    ('available', 'used'),\n",
    "    ('available', 'not used'),\n",
    "    ('available', 'not used'),\n",
    "    ('available', 'not used'),\n",
    "    ('available', 'used'),\n",
    "    ('available', 'not used'),\n",
    "    ('available', 'not used'),\n",
    "    ('available', 'not used'),\n",
    "    ('not available', 'not used'),\n",
    "    ('available', 'used'),\n",
    "    ('not available', 'not used'),\n",
    "    ('available', 'not used'),\n",
    "    ('available', 'not used'),\n",
    "    ('available', 'not used'),\n",
    "    ('available', 'used'),\n",
    "    ('available', 'used'),\n",
    "    ('not available', 'not used'),\n",
    "    ('not available', 'not used'),\n",
    "    ('available', 'not used'),\n",
    "    ('available', 'used'),\n",
    "    ('available', 'used'),\n",
    "    ('available', 'used'),\n",
    "    ('available', 'used'),\n",
    "    ('not available', 'not used'),\n",
    "    ('available', 'used'),\n",
    "    ('available', 'not used'),\n",
    "    ('available', 'used'),\n",
    "    ('available', 'used'),\n",
    "    ('available', 'used'),\n",
    "    ('available', 'used'),\n",
    "]"
   ]
  },
  {
   "cell_type": "code",
   "execution_count": 562,
   "id": "ea81c557",
   "metadata": {},
   "outputs": [
    {
     "data": {
      "text/plain": [
       "30"
      ]
     },
     "execution_count": 562,
     "metadata": {},
     "output_type": "execute_result"
    }
   ],
   "source": [
    "sum(list(map(lambda x: x[0]=='available', round_1_status)))"
   ]
  },
  {
   "cell_type": "code",
   "execution_count": 563,
   "id": "300000ac",
   "metadata": {},
   "outputs": [
    {
     "data": {
      "text/plain": [
       "15"
      ]
     },
     "execution_count": 563,
     "metadata": {},
     "output_type": "execute_result"
    }
   ],
   "source": [
    "sum(list(map(lambda x: x[1]=='used', round_1_status)))"
   ]
  },
  {
   "cell_type": "code",
   "execution_count": 564,
   "id": "be8ba9a8",
   "metadata": {},
   "outputs": [
    {
     "data": {
      "text/plain": [
       "15"
      ]
     },
     "execution_count": 564,
     "metadata": {},
     "output_type": "execute_result"
    }
   ],
   "source": [
    "sum(list(map(lambda x: x[1]=='used', round_2_status)))"
   ]
  },
  {
   "cell_type": "code",
   "execution_count": 575,
   "id": "878adcc7",
   "metadata": {},
   "outputs": [
    {
     "data": {
      "text/plain": [
       "(array(['-', 'player_1', 'player_2'], dtype='<U8'), array([ 1, 15, 19]))"
      ]
     },
     "execution_count": 575,
     "metadata": {},
     "output_type": "execute_result"
    }
   ],
   "source": [
    "np.unique(list(map(lambda x: x[2], judge_decision)), return_counts=True)"
   ]
  },
  {
   "cell_type": "code",
   "execution_count": 578,
   "id": "343d9687",
   "metadata": {},
   "outputs": [
    {
     "data": {
      "text/plain": [
       "10"
      ]
     },
     "execution_count": 578,
     "metadata": {},
     "output_type": "execute_result"
    }
   ],
   "source": [
    "general_info['judge_decision'].map(lambda x: x[0] == x[1] == x[2]).sum()"
   ]
  },
  {
   "cell_type": "code",
   "execution_count": null,
   "id": "b2cdf7a3",
   "metadata": {},
   "outputs": [],
   "source": []
  }
 ],
 "metadata": {
  "kernelspec": {
   "display_name": "Python 3 (ipykernel)",
   "language": "python",
   "name": "python3"
  },
  "language_info": {
   "codemirror_mode": {
    "name": "ipython",
    "version": 3
   },
   "file_extension": ".py",
   "mimetype": "text/x-python",
   "name": "python",
   "nbconvert_exporter": "python",
   "pygments_lexer": "ipython3",
   "version": "3.9.13"
  }
 },
 "nbformat": 4,
 "nbformat_minor": 5
}
